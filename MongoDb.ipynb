{
 "cells": [
  {
   "cell_type": "code",
   "execution_count": 1,
   "metadata": {},
   "outputs": [],
   "source": [
    "import pymongo\n",
    "client = pymongo.MongoClient('mongodb://127.0.0.1:27017/')\n",
    "mydb = client['Employee']\n",
    "empinfo=mydb.employeeinformation"
   ]
  },
  {
   "cell_type": "code",
   "execution_count": 3,
   "metadata": {},
   "outputs": [
    {
     "data": {
      "text/plain": [
       "<pymongo.results.InsertOneResult at 0x1d4f1db9988>"
      ]
     },
     "execution_count": 3,
     "metadata": {},
     "output_type": "execute_result"
    }
   ],
   "source": [
    "record = {\n",
    "    \"First name\":\"Ashish\",\n",
    "    \"Last name\":\"Kumar\",\n",
    "    \"Department\":\"Machine Learning\",\n",
    "    \"Qualification\":\"B.Tech\",\n",
    "    \"Age\":\"25\"\n",
    "    }\n",
    "empinfo.insert_one(record)"
   ]
  },
  {
   "cell_type": "code",
   "execution_count": 13,
   "metadata": {},
   "outputs": [
    {
     "data": {
      "text/plain": [
       "<pymongo.results.InsertManyResult at 0x1d4f128f488>"
      ]
     },
     "execution_count": 13,
     "metadata": {},
     "output_type": "execute_result"
    }
   ],
   "source": [
    "record = [{\n",
    "    \"First name\":\"Ashish\",\n",
    "    \"Last name\":\"Kumar\",\n",
    "    \"Department\":\"Machine Learning\",\n",
    "    \"Qualification\":\"B.Tech\",\n",
    "    \"Age\":\"25\"\n",
    "    },\n",
    "  {\n",
    "    \"First name\":\"Diksha\",\n",
    "    \"Last name\":\"Anand\",\n",
    "    \"Department\":\"Deep Learning\",\n",
    "    \"Qualification\":\"B.Tech\",\n",
    "    \"Age\":\"25\"\n",
    "    },\n",
    "    {\n",
    "    \"First name\":\"Kundan\",\n",
    "    \"Last name\":\"Kumar\",\n",
    "    \"Department\":\"Machine Learning\",\n",
    "    \"Qualification\":\"B.Tech\",\n",
    "    \"Age\":\"25\"\n",
    "    },\n",
    "    {\n",
    "    \"First name\":\"Madhumita\",\n",
    "    \"Last name\":\"Pal\",\n",
    "    \"Department\":\"Deep Learning\",\n",
    "    \"Qualification\":\"B.Tech\",\n",
    "    \"Age\":\"25\"\n",
    "    },\n",
    "    {\n",
    "    \"First name\":\"Niharika\",\n",
    "    \"Last name\":\"Mondal\",\n",
    "    \"Department\":\"Deep Learning\",\n",
    "    \"Qualification\":\"M.Tech\",\n",
    "    \"Age\":\"25\"\n",
    "    },\n",
    "    {\n",
    "    \"First name\":\"Priyanka\",\n",
    "    \"Last name\":\"Sarkar\",\n",
    "    \"Department\":\"Deep Learning\",\n",
    "    \"Qualification\":\"phd\",\n",
    "    \"Age\":\"25\"}]\n",
    "empinfo.insert_many(record)"
   ]
  },
  {
   "cell_type": "code",
   "execution_count": 6,
   "metadata": {},
   "outputs": [],
   "source": [
    "#Simple WAY OF Quesring"
   ]
  },
  {
   "cell_type": "code",
   "execution_count": 7,
   "metadata": {},
   "outputs": [
    {
     "data": {
      "text/plain": [
       "{'_id': ObjectId('5f848552ef38651fcac26b84'),\n",
       " 'First name': 'Ashish',\n",
       " 'Last name': 'Kumar',\n",
       " 'Department': 'Machine Learning'}"
      ]
     },
     "execution_count": 7,
     "metadata": {},
     "output_type": "execute_result"
    }
   ],
   "source": [
    "empinfo.find_one()"
   ]
  },
  {
   "cell_type": "code",
   "execution_count": 10,
   "metadata": {},
   "outputs": [
    {
     "name": "stdout",
     "output_type": "stream",
     "text": [
      "{'_id': ObjectId('5f848552ef38651fcac26b84'), 'First name': 'Ashish', 'Last name': 'Kumar', 'Department': 'Machine Learning'}\n",
      "{'_id': ObjectId('5f848552ef38651fcac26b85'), 'First name': 'Diksha', 'Last name': 'Anand', 'Department': 'Deep Learning'}\n",
      "{'_id': ObjectId('5f848552ef38651fcac26b86'), 'First name': 'Kundan', 'Last name': 'Kumar', 'Department': 'Machine Learning'}\n",
      "{'_id': ObjectId('5f848552ef38651fcac26b87'), 'First name': 'Madhumita', 'Last name': 'Pal', 'Department': 'Deep Learning'}\n",
      "{'_id': ObjectId('5f848e13f51b5e4d087c8f3e'), 'First name': 'Ashish', 'Last name': 'Kumar', 'Department': 'Machine Learning', 'Qualification': 'B.Tech', 'Age': '25'}\n",
      "{'_id': ObjectId('5f848f22f51b5e4d087c8f3f'), 'First name': 'Ashish', 'Last name': 'Kumar', 'Department': 'Machine Learning', 'Qualification': 'B.Tech', 'Age': '25'}\n",
      "{'_id': ObjectId('5f848f22f51b5e4d087c8f40'), 'First name': 'Diksha', 'Last name': 'Anand', 'Department': 'Deep Learning', 'Qualification': 'B.Tech', 'Age': '25'}\n",
      "{'_id': ObjectId('5f848f22f51b5e4d087c8f41'), 'First name': 'Kundan', 'Last name': 'Kumar', 'Department': 'Machine Learning', 'Qualification': 'B.Tech', 'Age': '25'}\n",
      "{'_id': ObjectId('5f848f22f51b5e4d087c8f42'), 'First name': 'Madhumita', 'Last name': 'Pal', 'Department': 'Deep Learning', 'Qualification': 'B.Tech', 'Age': '25'}\n"
     ]
    }
   ],
   "source": [
    "# select * from employeeinformation\n",
    "for record  in empinfo.find():\n",
    "    print(record)"
   ]
  },
  {
   "cell_type": "code",
   "execution_count": 12,
   "metadata": {},
   "outputs": [
    {
     "name": "stdout",
     "output_type": "stream",
     "text": [
      "{'_id': ObjectId('5f848552ef38651fcac26b84'), 'First name': 'Ashish', 'Last name': 'Kumar', 'Department': 'Machine Learning'}\n",
      "{'_id': ObjectId('5f848e13f51b5e4d087c8f3e'), 'First name': 'Ashish', 'Last name': 'Kumar', 'Department': 'Machine Learning', 'Qualification': 'B.Tech', 'Age': '25'}\n",
      "{'_id': ObjectId('5f848f22f51b5e4d087c8f3f'), 'First name': 'Ashish', 'Last name': 'Kumar', 'Department': 'Machine Learning', 'Qualification': 'B.Tech', 'Age': '25'}\n"
     ]
    }
   ],
   "source": [
    "for record in empinfo.find({'First name': 'Ashish'}):\n",
    "    print(record)"
   ]
  },
  {
   "cell_type": "code",
   "execution_count": 14,
   "metadata": {},
   "outputs": [],
   "source": [
    "#Query using Operator($in,$lt,$gt)"
   ]
  },
  {
   "cell_type": "code",
   "execution_count": 16,
   "metadata": {},
   "outputs": [
    {
     "name": "stdout",
     "output_type": "stream",
     "text": [
      "{'_id': ObjectId('5f849299f51b5e4d087c8f47'), 'First name': 'Niharika', 'Last name': 'Mondal', 'Department': 'Deep Learning', 'Qualification': 'M.Tech', 'Age': '25'}\n",
      "{'_id': ObjectId('5f849299f51b5e4d087c8f48'), 'First name': 'Priyanka', 'Last name': 'Sarkar', 'Department': 'Deep Learning', 'Qualification': 'phd', 'Age': '25'}\n"
     ]
    }
   ],
   "source": [
    "for record in empinfo.find({'Qualification':{'$in':['phd','M.Tech']}}):\n",
    "    print(record)"
   ]
  },
  {
   "cell_type": "code",
   "execution_count": 25,
   "metadata": {},
   "outputs": [],
   "source": [
    "#And Operator\n",
    "for record in empinfo.find({'Qualification':'phd','Age':{'$lt':35}}):\n",
    "    print(record)"
   ]
  },
  {
   "cell_type": "code",
   "execution_count": 30,
   "metadata": {},
   "outputs": [
    {
     "name": "stdout",
     "output_type": "stream",
     "text": [
      "{'_id': ObjectId('5f849299f51b5e4d087c8f43'), 'First name': 'Ashish', 'Last name': 'Kumar', 'Department': 'Machine Learning', 'Qualification': 'B.Tech', 'Age': '25'}\n",
      "{'_id': ObjectId('5f849299f51b5e4d087c8f44'), 'First name': 'Diksha', 'Last name': 'Anand', 'Department': 'Deep Learning', 'Qualification': 'B.Tech', 'Age': '25'}\n",
      "{'_id': ObjectId('5f849299f51b5e4d087c8f45'), 'First name': 'Kundan', 'Last name': 'Kumar', 'Department': 'Machine Learning', 'Qualification': 'B.Tech', 'Age': '25'}\n",
      "{'_id': ObjectId('5f849299f51b5e4d087c8f46'), 'First name': 'Madhumita', 'Last name': 'Pal', 'Department': 'Deep Learning', 'Qualification': 'B.Tech', 'Age': '25'}\n"
     ]
    }
   ],
   "source": [
    "#Or Operator and operator\n",
    "for record in empinfo.find({'$or':[{'First name':'Diksha'},{'Qualification':'B.Tech'}]}):\n",
    "    print(record)"
   ]
  },
  {
   "cell_type": "code",
   "execution_count": 35,
   "metadata": {},
   "outputs": [],
   "source": [
    "inventory = mydb.inventory"
   ]
  },
  {
   "cell_type": "code",
   "execution_count": 36,
   "metadata": {},
   "outputs": [],
   "source": [
    "inventory.insert_many( [\n",
    "   { 'item': \"journal\", 'qty': 25, 'size': { 'h': 14, 'w': 21,'uom': \"cm\" }, 'status': \"A\" },\n",
    "   { 'item': \"notebook\", 'qty': 50,'size': { 'h': 8.5, 'w': 11,'uom': \"in\" },'status': \"A\" },\n",
    "   { 'item': \"paper\", 'qty': 100, 'size': { 'h': 8.5, 'w': 11,'uom': \"in\" },'status': \"D\" },\n",
    "   { 'item': \"planner\", 'qty': 75, 'size': { 'h': 22.85,'w': 30,'uom': \"cm\" },'status': \"D\" },\n",
    "   { 'item': \"postcard\", 'qty': 45, 'size': { 'h': 10, 'w': 15.25,'uom': \"cm\" },'status': \"A\" }\n",
    "]);"
   ]
  },
  {
   "cell_type": "code",
   "execution_count": 38,
   "metadata": {},
   "outputs": [
    {
     "name": "stdout",
     "output_type": "stream",
     "text": [
      "{'_id': ObjectId('5f84977bf51b5e4d087c8f49'), 'item': 'journal', 'qty': 25, 'size': {'h': 14, 'w': 21, 'uom': 'cm'}, 'status': 'A'}\n"
     ]
    }
   ],
   "source": [
    "for records in inventory.find({'size':{'h':14,'w':21,'uom':'cm'}}):\n",
    "    print(records)"
   ]
  },
  {
   "cell_type": "code",
   "execution_count": 39,
   "metadata": {},
   "outputs": [],
   "source": [
    "#Update Query"
   ]
  },
  {
   "cell_type": "code",
   "execution_count": 40,
   "metadata": {},
   "outputs": [
    {
     "data": {
      "text/plain": [
       "<pymongo.results.InsertManyResult at 0x1d4ec7e4748>"
      ]
     },
     "execution_count": 40,
     "metadata": {},
     "output_type": "execute_result"
    }
   ],
   "source": [
    "inventory.insert_many([\n",
    "    {\"item\": \"canvas\",\n",
    "     \"qty\": 100,\n",
    "     \"size\": {\"h\": 28, \"w\": 35.5, \"uom\": \"cm\"},\n",
    "     \"status\": \"A\"},\n",
    "    {\"item\": \"journal\",\n",
    "     \"qty\": 25,\n",
    "     \"size\": {\"h\": 14, \"w\": 21, \"uom\": \"cm\"},\n",
    "     \"status\": \"A\"},\n",
    "    {\"item\": \"mat\",\n",
    "     \"qty\": 85,\n",
    "     \"size\": {\"h\": 27.9, \"w\": 35.5, \"uom\": \"cm\"},\n",
    "     \"status\": \"A\"},\n",
    "    {\"item\": \"mousepad\",\n",
    "     \"qty\": 25,\n",
    "     \"size\": {\"h\": 19, \"w\": 22.85, \"uom\": \"cm\"},\n",
    "     \"status\": \"P\"},\n",
    "    {\"item\": \"notebook\",\n",
    "     \"qty\": 50,\n",
    "     \"size\": {\"h\": 8.5, \"w\": 11, \"uom\": \"in\"},\n",
    "     \"status\": \"P\"},\n",
    "    {\"item\": \"paper\",\n",
    "     \"qty\": 100,\n",
    "     \"size\": {\"h\": 8.5, \"w\": 11, \"uom\": \"in\"},\n",
    "     \"status\": \"D\"},\n",
    "    {\"item\": \"planner\",\n",
    "     \"qty\": 75,\n",
    "     \"size\": {\"h\": 22.85, \"w\": 30, \"uom\": \"cm\"},\n",
    "     \"status\": \"D\"},\n",
    "    {\"item\": \"postcard\",\n",
    "     \"qty\": 45,\n",
    "     \"size\": {\"h\": 10, \"w\": 15.25, \"uom\": \"cm\"},\n",
    "     \"status\": \"A\"},\n",
    "    {\"item\": \"sketchbook\",\n",
    "     \"qty\": 80,\n",
    "     \"size\": {\"h\": 14, \"w\": 21, \"uom\": \"cm\"},\n",
    "     \"status\": \"A\"},\n",
    "    {\"item\": \"sketch pad\",\n",
    "     \"qty\": 95,\n",
    "     \"size\": {\"h\": 22.85, \"w\": 30.5, \"uom\": \"cm\"},\n",
    "     \"status\": \"A\"}])"
   ]
  },
  {
   "cell_type": "code",
   "execution_count": 42,
   "metadata": {},
   "outputs": [
    {
     "data": {
      "text/plain": [
       "<pymongo.results.UpdateResult at 0x1d4f153e4c8>"
      ]
     },
     "execution_count": 42,
     "metadata": {},
     "output_type": "execute_result"
    }
   ],
   "source": [
    "inventory.update_one(\n",
    "{\"item\":\"sketch pad\"},\n",
    "{\"$set\":{\"size.uom\":\"m\",\"status\":\"P\"},\n",
    "\"$currentDate\":{\"lastModeified\":True}}\n",
    ")"
   ]
  },
  {
   "cell_type": "code",
   "execution_count": 44,
   "metadata": {},
   "outputs": [
    {
     "data": {
      "text/plain": [
       "<pymongo.results.UpdateResult at 0x1d4f150b408>"
      ]
     },
     "execution_count": 44,
     "metadata": {},
     "output_type": "execute_result"
    }
   ],
   "source": [
    "inventory.update_many(\n",
    "{\"qty\":{\"$lt\":50}},\n",
    "{\"$set\":{\"size.uom\":\"in\",\"status\":\"P\"},\n",
    "\"$currentDate\":{\"lastModeified\":True}}\n",
    ")"
   ]
  },
  {
   "cell_type": "code",
   "execution_count": 46,
   "metadata": {},
   "outputs": [
    {
     "data": {
      "text/plain": [
       "<pymongo.results.UpdateResult at 0x1d4f1dd2648>"
      ]
     },
     "execution_count": 46,
     "metadata": {},
     "output_type": "execute_result"
    }
   ],
   "source": [
    "inventory.replace_one(\n",
    "    {\"item\":\"paper\"},\n",
    "    {\"item\":\"paper\",\n",
    "    \"instock\":[\n",
    "        {\"warehouse\":\"A\",\"qty\":60},\n",
    "        {\"warehouse\":\"A\",\"qty\":40}]})"
   ]
  },
  {
   "cell_type": "code",
   "execution_count": null,
   "metadata": {},
   "outputs": [],
   "source": []
  }
 ],
 "metadata": {
  "kernelspec": {
   "display_name": "Python 3",
   "language": "python",
   "name": "python3"
  },
  "language_info": {
   "codemirror_mode": {
    "name": "ipython",
    "version": 3
   },
   "file_extension": ".py",
   "mimetype": "text/x-python",
   "name": "python",
   "nbconvert_exporter": "python",
   "pygments_lexer": "ipython3",
   "version": "3.7.4"
  }
 },
 "nbformat": 4,
 "nbformat_minor": 4
}
